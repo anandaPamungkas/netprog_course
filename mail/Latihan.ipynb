{
 "cells": [
  {
   "cell_type": "code",
   "execution_count": 1,
   "metadata": {},
   "outputs": [],
   "source": [
    "import argparse\n",
    "import getpass\n",
    "import poplib\n",
    "import imaplib\n"
   ]
  },
  {
   "cell_type": "code",
   "execution_count": 2,
   "metadata": {},
   "outputs": [],
   "source": [
    "def imap_mail(username):\n",
    "    try:\n",
    "        global SERVER\n",
    "        global PORT\n",
    "        mailbox = imaplib.IMAP4_SSL(SERVER, PORT) \n",
    "        password = getpass.getpass(prompt=\"Masukkan password anda : \") \n",
    "        mailbox.login(username, password)\n",
    "        mailbox.select('Inbox')\n",
    "        typ, data = mailbox.search(None, 'ALL')\n",
    "        for num in data[0].split():\n",
    "            typ, data = mailbox.fetch(num, '(RFC822)')\n",
    "            print('...........................................................................')\n",
    "            print ('Message %s\\n%s\\n' % (num, data[0][1]))\n",
    "            break\n",
    "        mailbox.close()\n",
    "        mailbox.logout()\n",
    "    except:\n",
    "        print('username dan password tidak sesuai')\n",
    "\n",
    "def pop_mail(username):\n",
    "    try:\n",
    "        global SERVER\n",
    "        global PORT\n",
    "        mailbox = poplib.POP3_SSL(SERVER, PORT) \n",
    "        mailbox.user(username)\n",
    "        password = getpass.getpass(prompt='Masukkan password anda : ') \n",
    "        mailbox.pass_(password) \n",
    "        num_messages = len(mailbox.list()[1])\n",
    "        print('...........................................................................')\n",
    "        print ('Total emails: {}'.format(num_messages))\n",
    "        mailbox.quit()\n",
    "    except:\n",
    "        print('username dan password tidak sesuai')"
   ]
  },
  {
   "cell_type": "markdown",
   "metadata": {},
   "source": [
    "Buatlah sebuah fungsi yang dapat menggabungkan fungsionalitas fungsi `imap_mail()` dan `pop_mail()`"
   ]
  },
  {
   "cell_type": "code",
   "execution_count": 3,
   "metadata": {},
   "outputs": [],
   "source": [
    "def mail(username, protocol, host):\n",
    "    try:\n",
    "        global SERVER \n",
    "        global PORT\n",
    " \n",
    "        if(protocol == 1 and host == 1):\n",
    "       \n",
    "            SERVER = 'imap.gmail.com'\n",
    "        \n",
    "            PORT = '993'\n",
    "            imap_mail(username)\n",
    "        elif(protocol == 1 and host == 2):\n",
    "        \n",
    "            SERVER = 'outlook.office365.com'\n",
    "        \n",
    "            PORT = '993'\n",
    "            imap_mail(username)\n",
    "        elif(protocol == 2 and host == 1):\n",
    "        \n",
    "            SERVER = 'pop.gmail.com'\n",
    "       \n",
    "            PORT = '995'\n",
    "            pop_mail(username)\n",
    "        elif(protocol == 2 and host == 2):\n",
    "        \n",
    "            SERVER = 'outlook.office365.com'\n",
    "       \n",
    "            PORT = '995'\n",
    "            pop_mail(username)\n",
    "    except:\n",
    "        print('terjadi masalah')"
   ]
  },
  {
   "cell_type": "markdown",
   "metadata": {},
   "source": [
    "Panggil fungsi `mail()` di bawah ini:"
   ]
  },
  {
   "cell_type": "code",
   "execution_count": 4,
   "metadata": {},
   "outputs": [
    {
     "name": "stderr",
     "output_type": "stream",
     "text": [
      "usage: ipykernel_launcher.py [-h] [--username USERNAME]\n",
      "ipykernel_launcher.py: error: unrecognized arguments: -f /home/ananda/.local/share/jupyter/runtime/kernel-2b374e55-986c-4ef5-beba-7e7668de4924.json\n"
     ]
    },
    {
     "ename": "SystemExit",
     "evalue": "2",
     "output_type": "error",
     "traceback": [
      "An exception has occurred, use %tb to see the full traceback.\n",
      "\u001b[0;31mSystemExit\u001b[0m\u001b[0;31m:\u001b[0m 2\n"
     ]
    },
    {
     "name": "stderr",
     "output_type": "stream",
     "text": [
      "/usr/lib/python3/dist-packages/IPython/core/interactiveshell.py:3339: UserWarning: To exit: use 'exit', 'quit', or Ctrl-D.\n",
      "  warn(\"To exit: use 'exit', 'quit', or Ctrl-D.\", stacklevel=1)\n"
     ]
    }
   ],
   "source": [
    "if __name__ == '__main__':\n",
    "    parser = argparse.ArgumentParser(description='Email Download Example')\n",
    "    parser.add_argument('--username', action=\"store\", dest=\"username\", default=getpass.getuser())\n",
    "    given_args = parser.parse_args() \n",
    "    username = given_args.username\n",
    "    try:     \n",
    "        print('Pilih protocol')\n",
    "        print('1. IMAP')\n",
    "        print('2. POP3')\n",
    "        protocol = int(input('Masukkan protocol yang dipilih : '))\n",
    "    except:\n",
    "        print('bilangan harus integer')\n",
    "    try:     \n",
    "        print('Pilih Host')\n",
    "        print('1. Gmail')\n",
    "        print('2. Outlook')\n",
    "        host = int(input('Masukkan host yang dipilih : '))\n",
    "    except:\n",
    "        print('bilangan harus integer')\n",
    "\n",
    "    mail(username, protocol, host)"
   ]
  },
  {
   "cell_type": "code",
   "execution_count": null,
   "metadata": {},
   "outputs": [],
   "source": []
  }
 ],
 "metadata": {
  "kernelspec": {
   "display_name": "Python 3",
   "language": "python",
   "name": "python3"
  },
  "language_info": {
   "codemirror_mode": {
    "name": "ipython",
    "version": 3
   },
   "file_extension": ".py",
   "mimetype": "text/x-python",
   "name": "python",
   "nbconvert_exporter": "python",
   "pygments_lexer": "ipython3",
   "version": "3.7.6"
  }
 },
 "nbformat": 4,
 "nbformat_minor": 4
}
