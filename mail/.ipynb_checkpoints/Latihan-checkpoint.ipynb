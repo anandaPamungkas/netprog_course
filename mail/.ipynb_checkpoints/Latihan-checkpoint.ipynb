{
 "cells": [
  {
   "cell_type": "code",
   "execution_count": 1,
   "metadata": {},
   "outputs": [],
   "source": [
    "import getpass\n",
    "import poplib\n",
    "import imaplib\n"
   ]
  },
  {
   "cell_type": "code",
   "execution_count": 2,
   "metadata": {},
   "outputs": [],
   "source": [
    "def imap_mail(username):\n",
    "    try:\n",
    "        global SERVER\n",
    "        global PORT\n",
    "        mailbox = imaplib.IMAP4_SSL(SERVER, PORT) \n",
    "        password = getpass.getpass(prompt=\"Masukkan password anda : \") \n",
    "        mailbox.login(username, password)\n",
    "        mailbox.select('Inbox')\n",
    "        typ, data = mailbox.search(None, 'ALL')\n",
    "        for num in data[0].split():\n",
    "            typ, data = mailbox.fetch(num, '(RFC822)')\n",
    "            print('...........................................................................')\n",
    "            print ('Message %s\\n%s\\n' % (num, data[0][1]))\n",
    "            break\n",
    "        mailbox.close()\n",
    "        mailbox.logout()\n",
    "    except:\n",
    "        print('username dan password tidak sesuai')\n",
    "\n",
    "def pop_mail(username):\n",
    "    try:\n",
    "        global SERVER\n",
    "        global PORT\n",
    "        mailbox = poplib.POP3_SSL(SERVER, PORT) \n",
    "        mailbox.user(username)\n",
    "        password = getpass.getpass(prompt='Masukkan password anda : ') \n",
    "        mailbox.pass_(password) \n",
    "        num_messages = len(mailbox.list()[1])\n",
    "        print('...........................................................................')\n",
    "        print ('Total emails: {}'.format(num_messages))\n",
    "        mailbox.quit()\n",
    "    except:\n",
    "        print('username dan password tidak sesuai')"
   ]
  },
  {
   "cell_type": "markdown",
   "metadata": {},
   "source": [
    "Buatlah sebuah fungsi yang dapat menggabungkan fungsionalitas fungsi `imap_mail()` dan `pop_mail()`"
   ]
  },
  {
   "cell_type": "code",
   "execution_count": 3,
   "metadata": {},
   "outputs": [],
   "source": [
    "def mail(username, protocol, host):\n",
    "    try:\n",
    "        global SERVER \n",
    "        global PORT\n",
    " \n",
    "        if(protocol == 1 and host == 1):\n",
    "       \n",
    "            SERVER = 'imap.gmail.com'\n",
    "        \n",
    "            PORT = '993'\n",
    "            imap_mail(username)\n",
    "        elif(protocol == 1 and host == 2):\n",
    "        \n",
    "            SERVER = 'outlook.office365.com'\n",
    "        \n",
    "            PORT = '993'\n",
    "            imap_mail(username)\n",
    "        elif(protocol == 2 and host == 1):\n",
    "        \n",
    "            SERVER = 'pop.gmail.com'\n",
    "       \n",
    "            PORT = '995'\n",
    "            pop_mail(username)\n",
    "        elif(protocol == 2 and host == 2):\n",
    "        \n",
    "            SERVER = 'outlook.office365.com'\n",
    "       \n",
    "            PORT = '995'\n",
    "            pop_mail(username)\n",
    "    except:\n",
    "        print('terjadi masalah')"
   ]
  },
  {
   "cell_type": "markdown",
   "metadata": {},
   "source": [
    "Panggil fungsi `mail()` di bawah ini:"
   ]
  },
  {
   "cell_type": "code",
   "execution_count": 5,
   "metadata": {},
   "outputs": [
    {
     "name": "stdout",
     "output_type": "stream",
     "text": [
      "Masukkan email anda : gedeananda0@gmail.com\n",
      "Pilih protocol\n",
      "1. IMAP\n",
      "2. POP3\n",
      "Masukkan protocol yang dipilih : 1\n",
      "Pilih Host\n",
      "1. Gmail\n",
      "2. Outlook\n",
      "Masukkan host yang dipilih : 1\n",
      "Masukkan password anda : ········\n",
      "...........................................................................\n",
      "Message b'1'\n",
      "b'MIME-Version: 1.0\\r\\nReceived: by 10.182.108.133; Sun, 19 Jan 2014 03:48:37 -0800 (PST)\\r\\nDate: Sun, 19 Jan 2014 03:48:37 -0800\\r\\nMessage-ID: <CADMHE4pbgCMyxtYW8Qo90ZY5At2e9imsJO3qYYHYyhytr3Y57A@mail.gmail.com>\\r\\nSubject: Welcome to the new Gmail inbox\\r\\nFrom: Gmail Team <mail-noreply@google.com>\\r\\nTo: Ananda Pamungkas <gedeananda0@gmail.com>\\r\\nContent-Type: multipart/alternative; boundary=001a11c2ce700c8deb04f0515bc3\\r\\n\\r\\n--001a11c2ce700c8deb04f0515bc3\\r\\nContent-Type: text/plain; charset=ISO-8859-1\\r\\nContent-Transfer-Encoding: quoted-printable\\r\\n\\r\\n  Welcome to the new Gmail inbox                       * Hi Ananda *\\r\\n    <https://mail.google.com/mail/help/redirect/index.html?r=3Dinboxtabsvid=\\r\\neo&utm_source=3Dwelcome&hl=3Den>\\r\\n   Meet\\r\\nthe new inbox    Inbox tabs put you back in control with simple\\r\\norganization so that you can see what\\'s new at a glance and decide which\\r\\nemails you want to read when. Watch the\\r\\nvideo<https://mail.google.com/mail/help/redirect/index.html?r=3Dinboxtabsvi=\\r\\ndeo&utm_source=3Dwelcome&hl=3Den>\\r\\n       Organized into categories    You choose from five optional tabs:\\r\\nPrimary, Social, Promotions, Updates and Forums. These categories make it\\r\\neasy to read messages of the same type all at once.           Easy to\\r\\ncustomize    Select the tabs you want from all five to none. And, if you\\r\\nsee a message you want in a different tab, all you have to do is drag and\\r\\ndrop it into the tab you choose. More\\r\\ntips<https://support.google.com/mail?p=3Dinboxtabs&hl=3Den>\\r\\n       Get the new inbox on your mobile device    The new inbox is\\r\\navailable in Gmail\\'s official mobile apps on Android 4.0+\\r\\ndevices<https://mail.google.com/mail/help/redirect/index.html?r=3Dandroid&u=\\r\\ntm_campaign=3Dandroid&utm_source=3Dwelcome&hl=3Den>as\\r\\nwell as iPhone\\r\\nand iPad<https://mail.google.com/mail/help/redirect/index.html?r=3Dapple&hl=\\r\\n=3Den>.\\r\\nYour mobile inbox and notifications now show primary email. It\\'s easy to\\r\\naccess and keep track of email in other categories.\\r\\n<https://mail.google.com/mail/help/redirect/index.html?r=3Dandroid&utm_camp=\\r\\naign=3Dandroid&utm_source=3Dmsa&hl=3Den>\\r\\n<https://mail.google.com/mail/help/redirect/index.html?r=3Dapple&utm_campai=\\r\\ngn=3Dapple&utm_source=3Dmsa&hl=3Den>\\r\\n    To learn more about the new inbox, check out the help\\r\\ncenter<https://support.google.com/mail?p=3Dinboxtabs&hl=3Den>or watch\\r\\nthe video<https://mail.google.com/mail/help/redirect/index.html?r=3Dinboxta=\\r\\nbsvideo&utm_source=3Dwelcome&hl=3Den>\\r\\n.      Happy emailing,  The Gmail Team               =A9 2013 Google Inc.\\r\\n1600 Amphitheatre Parkway, Mountain View, CA 94043\\r\\n\\r\\nYou have received this mandatory email service announcement to update you\\r\\nabout important changes to your Gmail product or account.\\r\\n\\r\\n--001a11c2ce700c8deb04f0515bc3\\r\\nContent-Type: text/html; charset=ISO-8859-1\\r\\nContent-Transfer-Encoding: quoted-printable\\r\\n\\r\\n<!DOCTYPE html PUBLIC \"-//W3C//DTD XHTML 1.0 Transitional//EN\" \"http://www.=\\r\\nw3.org/TR/xhtml1/DTD/xhtml1-transitional.dtd\">\\r\\n<html xmlns=3D\"http://www.w3.org/1999/xhtml\">\\r\\n  <head>\\r\\n    <meta http-equiv=3D\"content-type\" content=3D\"text/html;charset=3DUTF-8\"=\\r\\n />\\r\\n    <title>Welcome to the new Gmail inbox</title>\\r\\n  </head>\\r\\n  <body marginheight=3D\"0\" marginwidth=3D\"0\" text=3D\"#444444\" link=3D\"#1155=\\r\\nCC\">\\r\\n    <table border=3D\"0\" cellpadding=3D\"0\" cellspacing=3D\"0\" width=3D\"100%\" =\\r\\nbgcolor=3D\"#f5f5f5\" style=3D\"border-collapse: collapse;\">\\r\\n      <tr>\\r\\n        <td>&nbsp;</td>\\r\\n        <td height=3D\"51\" width=3D\"64\"><img alt=3D\"\" src=3D\"https://ssl.gst=\\r\\natic.com/drive/announcements/images/framework-top-left.png\" height=3D\"51\" w=\\r\\nidth=3D\"64\" style=3D\"display:block\" /></td>\\r\\n        <td background=3D\"https://ssl.gstatic.com/drive/announcements/image=\\r\\ns/framework-top-middle.png\" bgcolor=3D\"#f5f5f5\" height=3D\"51\" valign=3D\"bot=\\r\\ntom\" width=3D\"673\">\\r\\n        </td>\\r\\n        <td height=3D\"51\" width=3D\"64\"><img alt=3D\"\" src=3D\"https://ssl.gst=\\r\\natic.com/drive/announcements/images/framework-top-right.png\" height=3D\"51\" =\\r\\nwidth=3D\"68\" style=3D\"display:block\" /></td>\\r\\n        <td>&nbsp;</td>\\r\\n      </tr>\\r\\n      <tr>\\r\\n        <td>&nbsp;</td>\\r\\n        <td height=3D175 width=3D\"64\"><img alt=3D\"\" src=3D\"https://ssl.gsta=\\r\\ntic.com/drive/announcements/images/framework-middle-1-left.png\" height=3D17=\\r\\n5 width=3D\"64\" style=3D\"display:block\" /></td>\\r\\n        <td width=3D\"668\" bgcolor=3D\"#ffffff\" valign=3D\"top\">\\r\\n          <table border=3D0 cellpadding=3D0 cellspacing=3D0 width=3D100% st=\\r\\nyle=3D\"border-collapse:collapse; \">\\r\\n            <tr>\\r\\n              <td colspan=3D\"3\">&nbsp;</td>\\r\\n            </tr>\\r\\n            <tr>\\r\\n              <td align=3D\"center\" colspan=3D\"3\" height=3D50 valign=3Dbotto=\\r\\nm><img alt=3D\"\" src=3D\"https://ssl.gstatic.com/drive/announcements/images/l=\\r\\nogo.gif\" style=3D\"display:block\" /></td>\\r\\n            </tr>\\r\\n            <tr>\\r\\n              <td colspan=3D\"3\" height=3D40>&nbsp;</td>\\r\\n            </tr>\\r\\n            <tr>\\r\\n              <td>&nbsp;</td>\\r\\n              <td width=3D\"520\" >\\r\\n                  <b>\\r\\n                    <font face=3D\"Arial, sans-serif\" color=3D\"#444444\" size=\\r\\n=3D\"-1\" style=3D\"line-height: 1.4em\">\\r\\n                      <img alt=3D\"\" src=3D\"https://ssl.gstatic.com/accounts=\\r\\n/services/mail/msa/gmail_icon_small.png\" style=3D\"display:block;float:left;=\\r\\nmargin-top:4px;margin-right:3px;\" />Hi Ananda\\r\\n                    </font>\\r\\n                  </b>\\r\\n              </td>\\r\\n              <td>&nbsp;</td>\\r\\n            </tr>\\r\\n          </table>\\r\\n        </td>\\r\\n        <td height=3D175 width=3D\"64\"><img alt=3D\"\" src=3D\"https://ssl.gsta=\\r\\ntic.com/drive/announcements/images/framework-middle-1-right.png\" height=3D1=\\r\\n75 width=3D\"64\" style=3D\"display:block\" /></td>\\r\\n        <td>&nbsp;</td>\\r\\n      </tr>\\r\\n      <tr>\\r\\n        <td>&nbsp;</td>\\r\\n        <td height=3D870 width=3D\"64\"><img alt=3D\"\" src=3D\"https://ssl.gsta=\\r\\ntic.com/drive/announcements/images/framework-middle-2-left.png\" height=3D87=\\r\\n0 width=3D\"64\" style=3D\"display:block\" /></td>\\r\\n        <td bgcolor=3D\"#ffffff\" align=3D\"center\" valign=3D\"top\" width=3D\"66=\\r\\n8\">\\r\\n            <table border=3D\"0\" cellpadding=3D\"0\" cellspacing=3D\"0\" width=\\r\\n=3D\"540\" style=3D\"border-collapse: collapse; {{DIRECTIONRTL}}\">\\r\\n            <tr>\\r\\n              <td align=3D\"left\">\\r\\n                <a href=3D\"https://mail.google.com/mail/help/redirect/index=\\r\\n.html?r=3Dinboxtabsvideo&utm_source=3Dwelcome&hl=3Den\" stle=3D\"text-decorat=\\r\\nion:none;\"><img alt=3D\"\" src=3D\"https://ssl.gstatic.com/mail/welcome/locali=\\r\\nzed/en/welcome_video.png\" border=3D0 style=3Ddisplay:block; /></a>\\r\\n              </td>\\r\\n              <td width=3D\"15\"></td>\\r\\n              <td valign=3Dmiddle>\\r\\n                <table border=3D0 cellpadding=3D0 cellspacing=3D0 width=3D4=\\r\\n00 style=3Dborder-collapse:collapse;>\\r\\n                  <tr>\\r\\n                    <td align=3D\"left\">\\r\\n                      <font face=3DArial,sans-serif color=3D#444444 size=3D=\\r\\n+1><span style=3D\"font-family:Open Sans, Arial, sans-serif; font-size: 20px=\\r\\n;\">Meet the new inbox</span></font>\\r\\n                    </td>\\r\\n                  </tr>\\r\\n                  <tr>\\r\\n                    <td height=3D\"10\"></td>\\r\\n                  </tr>\\r\\n                  <tr>\\r\\n                    <td  align=3D\"left\" valign=3D\"top\">\\r\\n                      <font face=3DArial,sans-serif color=3D#444444 size=3D=\\r\\n-1 style=3Dline-height:1.4em>Inbox tabs put you back in control with simple=\\r\\n organization so that you can see what\\'s new at a glance and decide which e=\\r\\nmails you want to read when. <a href=3D\"https://mail.google.com/mail/help/r=\\r\\nedirect/index.html?r=3Dinboxtabsvideo&utm_source=3Dwelcome&hl=3Den\" style=\\r\\n=3D\"text-decoration:none;\">Watch the video</a></font>\\r\\n                    </td>\\r\\n                  </tr>\\r\\n                </table>\\r\\n              </td>\\r\\n            </tr>\\r\\n            <tr>\\r\\n              <td colspan=3D3 height=3D30>&nbsp;</td>\\r\\n            </tr>\\r\\n            <tr>\\r\\n              <td align=3D\"left\">\\r\\n                <img alt=3D\"\" src=3D\"https://ssl.gstatic.com/mail/welcome/l=\\r\\nocalized/en/welcome_inbox_tab.png\" style=3D\"display:block\" />\\r\\n              </td>\\r\\n              <td width=3D\"15\"></td>\\r\\n              <td  align=3D\"left\" valign=3Dmiddle>\\r\\n                <table border=3D0 cellpadding=3D0 cellspacing=3D0 width=3D4=\\r\\n00 style=3D\"border-collapse:collapse;\">\\r\\n                  <tr>\\r\\n                    <td align=3D\"left\">\\r\\n                      <font face=3DArial,sans-serif color=3D#444444 size=3D=\\r\\n+1><span style=3D\"font-family:Open Sans, Arial, sans-serif; font-size: 20px=\\r\\n;\">Organized into categories</span></font>\\r\\n                    </td>\\r\\n                  </tr>\\r\\n                  <tr>\\r\\n                    <td height=3D\"10\"></td>\\r\\n                  </tr>\\r\\n                  <tr>\\r\\n                    <td  align=3D\"left\" valign=3D\"top\">\\r\\n                      <font face=3DArial,sans-serif color=3D#444444 size=3D=\\r\\n-1 style=3Dline-height:1.4em>You choose from five optional tabs: Primary, S=\\r\\nocial, Promotions, Updates and Forums.  These categories make it easy to re=\\r\\nad messages of the same type all at once.</font>\\r\\n                    </td>\\r\\n                  </tr>\\r\\n                </table>\\r\\n              </td>\\r\\n            </tr>\\r\\n            <tr>\\r\\n              <td colspan=3D3 height=3D30>&nbsp;</td>\\r\\n            </tr>\\r\\n            <tr>\\r\\n              <td align=3D\"left\">\\r\\n                <img alt=3D\"\" src=3D\"https://ssl.gstatic.com/mail/welcome/l=\\r\\nocalized/en/welcome_customize.png\" style=3D\"display:block\" />\\r\\n              </td>\\r\\n              <td width=3D\"15\"></td>\\r\\n              <td  align=3D\"left\" valign=3Dmiddle>\\r\\n                <table border=3D0 cellpadding=3D0 cellspacing=3D0 width=3D4=\\r\\n00 style=3Dborder-collapse:collapse;>\\r\\n                  <tr>\\r\\n                    <td align=3D\"left\">\\r\\n                      <font face=3DArial,sans-serif color=3D#444444 size=3D=\\r\\n+1><span style=3D\"font-family:Open Sans, Arial, sans-serif; font-size: 20px=\\r\\n;\">Easy to customize</span></font>\\r\\n                    </td>\\r\\n                  </tr>\\r\\n                  <tr>\\r\\n                    <td height=3D\"10\"></td>\\r\\n                  </tr>\\r\\n                  <tr>\\r\\n                    <td  align=3D\"left\" valign=3D\"top\">\\r\\n                      <font face=3DArial,sans-serif color=3D#444444 size=3D=\\r\\n-1 style=3Dline-height:1.4em>Select the tabs you want from all five to none=\\r\\n. And, if you see a message you want in a different tab, all you have to do=\\r\\n is drag and drop it into the tab you choose. <a href=3D\"https://support.go=\\r\\nogle.com/mail?p=3Dinboxtabs&hl=3Den\" style=3D\"text-decoration:none;\">More t=\\r\\nips</a></font>\\r\\n                    </td>\\r\\n                  </tr>\\r\\n                </table>\\r\\n              </td>\\r\\n            </tr>\\r\\n            <tr>\\r\\n              <td colspan=3D3 height=3D30>&nbsp;</td>\\r\\n            </tr>\\r\\n            <tr>\\r\\n              <td>\\r\\n                <img alt=3D\"\" src=3D\"https://ssl.gstatic.com/mail/welcome/l=\\r\\nocalized/en/welcome_mobile.png\" style=3D\"display:block\" />\\r\\n              </td>\\r\\n              <td width=3D\"15\"></td>\\r\\n              <td  align=3D\"left\" valign=3Dmiddle>\\r\\n                <table border=3D0 cellpadding=3D0 cellspacing=3D0 width=3D4=\\r\\n00 style=3Dborder-collapse:collapse;>\\r\\n                  <tr>\\r\\n                    <td align=3D\"left\">\\r\\n                      <font face=3DArial,sans-serif color=3D#444444 size=3D=\\r\\n+1><span style=3D\"font-family:Open Sans, Arial, sans-serif; font-size: 20px=\\r\\n;\">Get the new inbox on your mobile device</span></font>\\r\\n                    </td>\\r\\n                  </tr>\\r\\n                  <tr>\\r\\n                    <td height=3D\"10\"></td>\\r\\n                  </tr>\\r\\n                  <tr>\\r\\n                    <td  align=3D\"left\" valign=3D\"top\">\\r\\n                      <font face=3DArial,sans-serif color=3D#444444 size=3D=\\r\\n-1 style=3Dline-height:1.4em>The new inbox is available in Gmail\\'s official=\\r\\n mobile apps on\\r\\n                      <a href=3D\"https://mail.google.com/mail/help/redirect=\\r\\n/index.html?r=3Dandroid&utm_campaign=3Dandroid&utm_source=3Dwelcome&hl=3Den=\\r\\n\" style=3D\"text-decoration:none;\">Android 4.0+ devices</a> as well as <a hr=\\r\\nef=3D\"https://mail.google.com/mail/help/redirect/index.html?r=3Dapple&hl=3D=\\r\\nen\" style=3D\"text-decoration:none;\">iPhone and iPad</a>. Your mobile inbox =\\r\\nand notifications now show primary email.  It\\'s easy to access and keep tra=\\r\\nck of email in other categories.</font>\\r\\n                      <table border=3D\"0\" cellpadding=3D\"0\" cellspacing=3D\"=\\r\\n0\" width=3D\"300\" style=3D\"border-collapse: collapse;\" >\\r\\n                        <tr>\\r\\n                          <td width=3D\"130\" height=3D\"60\">\\r\\n                            <a href=3D\"https://mail.google.com/mail/help/re=\\r\\ndirect/index.html?r=3Dandroid&utm_campaign=3Dandroid&utm_source=3Dmsa&hl=3D=\\r\\nen\" style=3D\"text-decoration:none;\">\\r\\n                              <img alt=3D\"\" width=3D\"119\" height=3D\"41\" src=\\r\\n=3D\"https://ssl.gstatic.com/accounts/services/mail/buttons/google_play_en.p=\\r\\nng\" border=3D0 style=3Ddisplay:block; />\\r\\n                            </a>\\r\\n                          </td>\\r\\n                          <td width=3D\"150\" height=3D\"60\">\\r\\n                            <a href=3D\"https://mail.google.com/mail/help/re=\\r\\ndirect/index.html?r=3Dapple&utm_campaign=3Dapple&utm_source=3Dmsa&hl=3Den\" =\\r\\nstyle=3D\"text-decoration:none;\">\\r\\n                              <img alt=3D\"\" width=3D\"140\" height=3D\"42\" src=\\r\\n=3D\"https://ssl.gstatic.com/accounts/services/mail/buttons/apple_store_en.p=\\r\\nng\" border=3D0 style=3Ddisplay:block; />\\r\\n                            </a>\\r\\n                          </td>\\r\\n                        </tr>\\r\\n                      </table>\\r\\n                    </td>\\r\\n                  </tr>\\r\\n                </table>\\r\\n              </td>\\r\\n            <tr>\\r\\n              <td colspan=3D\"3\" height=3D\"10\">&nbsp;</td>\\r\\n            </tr>\\r\\n          </table>\\r\\n          <table border=3D\"0\" cellpadding=3D\"0\" cellspacing=3D\"0\" width=3D\"=\\r\\n540\" style=3D\"border-collapse: collapse; {{DIRECTIONRTL}}\">\\r\\n            <tr>\\r\\n              <td colspan=3D\"2\" height=3D\"45\"><font face=3DArial,sans-serif=\\r\\n color=3D#444444 size=3D-1 style=3Dline-height:1.4em>To learn more about th=\\r\\ne new inbox, check out the <a href=3D\"https://support.google.com/mail?p=3Di=\\r\\nnboxtabs&hl=3Den\" style=3D\"text-decoration:none;\">help center</a> or <a hre=\\r\\nf=3D\"https://mail.google.com/mail/help/redirect/index.html?r=3Dinboxtabsvid=\\r\\neo&utm_source=3Dwelcome&hl=3Den\" style=3D\"text-decoration:none;\">watch the =\\r\\nvideo</a>.</font></td>\\r\\n            </tr>\\r\\n          </table>\\r\\n          <table border=3D\"0\" cellpadding=3D\"0\" cellspacing=3D\"0\" width=3D\"=\\r\\n500\" style=3D\"border-collapse: collapse; {{DIRECTIONRTL}}\">\\r\\n            <tr>\\r\\n              <td colspan=3D\"2\" height=3D\"30\">&nbsp;</td>\\r\\n            </tr>\\r\\n            <tr>\\r\\n              <td rowspan=3D\"2\" width=3D\"68\"><img alt=3D\"\" src=3D\"https://s=\\r\\nsl.gstatic.com/accounts/services/mail/msa/gmail_icon_large.png\" style=3D\"di=\\r\\nsplay:block\" /></td>\\r\\n              <td height=3D\"20\" valign=3D\"bottom\" align=3D\"left\"><font face=\\r\\n=3D\"Arial, sans-serif\" color=3D\"#444444\" size=3D\"-1\">Happy emailing,</font>=\\r\\n</td>\\r\\n            </tr>\\r\\n            <tr>\\r\\n              <td valign=3D\"top\" align=3D\"left\"><font face=3D\"Arial, sans-s=\\r\\nerif\" color=3D\"#444444\" size=3D\"+2\"><span style=3D\"font-family:Open Sans, A=\\r\\nrial, sans-serif;\">The Gmail Team</span></font></td>\\r\\n            </tr>\\r\\n            <tr>\\r\\n              <td colspan=3D\"2\" height=3D60>&nbsp;</td>\\r\\n            </tr>\\r\\n          </table>\\r\\n        </td>\\r\\n        <td height=3D870 width=3D\"64\"><img alt=3D\"\" src=3D\"https://ssl.gsta=\\r\\ntic.com/drive/announcements/images/framework-middle-2-right.png\" height=3D8=\\r\\n70 width=3D\"64\" style=3D\"display:block\" /></td>\\r\\n        <td>&nbsp;</td>\\r\\n      </tr>\\r\\n      <tr>\\r\\n        <td>&nbsp;</td>\\r\\n        <td height=3D\"102\" width=3D\"64\"><img alt=3D\"\" src=3D\"https://ssl.gs=\\r\\ntatic.com/drive/announcements/images/framework-bottom-left.png\" height=3D\"1=\\r\\n02\" width=3D\"64\" style=3D\"display:block\" /></td>\\r\\n        <td background=3D\"https://ssl.gstatic.com/drive/announcements/image=\\r\\ns/framework-bottom-middle.png\" height=3D\"102\" valign=3D\"top\" width=3D\"673\">\\r\\n          <table border=3D\"0\" cellpadding=3D\"0\" cellspacing=3D\"0\" width=3D\"=\\r\\n100%\" style=3D\"border-collapse: collapse; {{DIRECTIONRTL}}\">\\r\\n            <tr>\\r\\n              <td height=3D\"12\"></td>\\r\\n            </tr>\\r\\n            <tr>\\r\\n              <td valign=3D\"bottom\">\\r\\n                <font face=3D\"Arial, sans-serif\" color=3D\"#AAAAAA\" size=3D\"=\\r\\n-2\">\\r\\n                  &copy; 2013 Google Inc. 1600 Amphitheatre Parkway, Mounta=\\r\\nin View, CA 94043\\r\\n                </font>\\r\\n                <p>\\r\\n                  <font face=3D\"Arial, sans-serif\" color=3D\"#AAAAAA\" size=\\r\\n=3D\"-2\">You have received this mandatory email service announcement to upda=\\r\\nte you about important changes to your Gmail product or account.</font>\\r\\n                </p>\\r\\n              </td>\\r\\n            </tr>\\r\\n          </table>\\r\\n        </td>\\r\\n        <td height=3D\"102\" width=3D\"64\"><img alt=3D\"\" src=3D\"https://ssl.gs=\\r\\ntatic.com/drive/announcements/images/framework-bottom-right.png\" height=3D\"=\\r\\n102\" width=3D\"68\" style=3D\"display:block\" /></td>\\r\\n        <td>&nbsp;</td>\\r\\n      </tr>\\r\\n    </table>\\r\\n  </body>\\r\\n</html>\\r\\n\\r\\n--001a11c2ce700c8deb04f0515bc3--'\n",
      "\n"
     ]
    }
   ],
   "source": [
    "username = input('Masukkan email anda : ')\n",
    "try:     \n",
    "    print('Pilih protocol')\n",
    "    print('1. IMAP')\n",
    "    print('2. POP3')\n",
    "    protocol = int(input('Masukkan protocol yang dipilih : '))\n",
    "except:\n",
    "    print('bilangan harus integer')\n",
    "try:     \n",
    "    print('Pilih Host')\n",
    "    print('1. Gmail')\n",
    "    print('2. Outlook')\n",
    "    host = int(input('Masukkan host yang dipilih : '))\n",
    "except:\n",
    "    print('bilangan harus integer')\n",
    "\n",
    "mail(username, protocol, host)"
   ]
  },
  {
   "cell_type": "code",
   "execution_count": 16,
   "metadata": {},
   "outputs": [
    {
     "name": "stdout",
     "output_type": "stream",
     "text": [
      "ada\n"
     ]
    }
   ],
   "source": [
    "email = 'gedeananda0@gmail.com'\n",
    "x = email.split('@',1)\n",
    "host = x[1]\n",
    "if('gmail' in host):\n",
    "   print('ada')"
   ]
  },
  {
   "cell_type": "code",
   "execution_count": null,
   "metadata": {},
   "outputs": [],
   "source": []
  }
 ],
 "metadata": {
  "kernelspec": {
   "display_name": "Python 3",
   "language": "python",
   "name": "python3"
  },
  "language_info": {
   "codemirror_mode": {
    "name": "ipython",
    "version": 3
   },
   "file_extension": ".py",
   "mimetype": "text/x-python",
   "name": "python",
   "nbconvert_exporter": "python",
   "pygments_lexer": "ipython3",
   "version": "3.7.6"
  }
 },
 "nbformat": 4,
 "nbformat_minor": 4
}
